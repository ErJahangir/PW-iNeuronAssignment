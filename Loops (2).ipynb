{
 "cells": [
  {
   "cell_type": "markdown",
   "id": "5d7a7bde-e9d2-43aa-956d-4cdb461fda39",
   "metadata": {},
   "source": [
    "Q1. Explain with an example each when to use a for loop and a while loop."
   ]
  },
  {
   "cell_type": "markdown",
   "id": "346c0e48-d27e-4d29-8b91-a4b908a62bbf",
   "metadata": {},
   "source": [
    "\n",
    "ANSWER--->\n",
    "\n",
    "For Loop-->\n",
    "A for loop is a control flow statement that executes code for a predefined number of iterations. The keyword used in this control flow statement is “for”. When the number of iterations is already known, the for loop is used.\n",
    "It is used only when the number of iterations is known beforehand."
   ]
  },
  {
   "cell_type": "markdown",
   "id": "ad33770c-6bec-44b4-b6ef-7414d2212e45",
   "metadata": {},
   "source": [
    "Syntax-->\n",
    "for(initialization; condition; iteration){\n",
    "   //body of the 'for' loop\n",
    "}"
   ]
  },
  {
   "cell_type": "code",
   "execution_count": 1,
   "id": "a58709ab-1295-4cf2-8606-425e1018112e",
   "metadata": {},
   "outputs": [
    {
     "name": "stdout",
     "output_type": "stream",
     "text": [
      "Input list elements:\n",
      "10\n",
      "20\n",
      "30\n",
      "40\n",
      "50\n"
     ]
    }
   ],
   "source": [
    "#for Example-->\n",
    "#The following program prints all the list elements using the for loop −->\n",
    "inputList = [10, 20, 30, 40, 50]\n",
    "print(\"Input list elements:\")\n",
    "for i in range(0,len(inputList),1):\n",
    "   print(inputList[i])"
   ]
  },
  {
   "cell_type": "markdown",
   "id": "e775a93b-1691-4bae-9574-0dec3043fc23",
   "metadata": {},
   "source": [
    "While Loop-->\n",
    "\n",
    "\n",
    "A loop that runs a single statement or a set of statements for a given true condition. This loop is represented by the keyword \"while.\" When the number of iterations is unknown, a \"while\" loop is used. \n",
    "It is used only when the number of iterations isn’t known."
   ]
  },
  {
   "cell_type": "markdown",
   "id": "4a40b205-bb64-4d18-9493-06347883fa7c",
   "metadata": {},
   "source": [
    "Syntax-->\n",
    "while ( condition) {\n",
    "   statements;\n",
    "   //body of the loop\n",
    "}"
   ]
  },
  {
   "cell_type": "code",
   "execution_count": 2,
   "id": "2de7262b-6553-4b6a-803c-f099c831ab49",
   "metadata": {},
   "outputs": [
    {
     "name": "stdout",
     "output_type": "stream",
     "text": [
      "1\n",
      "2\n",
      "3\n",
      "4\n",
      "5\n",
      "6\n",
      "7\n",
      "8\n",
      "9\n",
      "10\n"
     ]
    }
   ],
   "source": [
    "i = 1\n",
    "while i <= 10:\n",
    "   print(i)\n",
    "   i += 1 "
   ]
  },
  {
   "cell_type": "markdown",
   "id": "fdd99db9-0f3e-4807-a2da-d641d7ad00b3",
   "metadata": {},
   "source": [
    "Q2).Write a python program to print the sum and product of the first 10 natural numbers using for\n",
    "and while loop."
   ]
  },
  {
   "cell_type": "code",
   "execution_count": 3,
   "id": "e17cdfb0-0e9b-494d-a17c-04e447ba335e",
   "metadata": {},
   "outputs": [
    {
     "name": "stdout",
     "output_type": "stream",
     "text": [
      "Sum \n",
      "55\n",
      "Product \n",
      "0\n"
     ]
    }
   ],
   "source": [
    "sum=0\n",
    "product=1\n",
    "for i in range(11):\n",
    "    sum=sum+i\n",
    "    product=product*i\n",
    "print(\"Sum \")\n",
    "print(sum)\n",
    "print(\"Product \")\n",
    "print(product)"
   ]
  },
  {
   "cell_type": "markdown",
   "id": "b1400a32-92f9-458c-a4b6-d064a97db048",
   "metadata": {},
   "source": [
    "Q3).  Create a python program to compute the electricity bill for a household.\n",
    "The per-unit charges in rupees are as follows: For the first 100 units, the user will be charged Rs. 4.5 per\n",
    "unit, for the next 100 units, the user will be charged Rs. 6 per unit, and for the next 100 units, the user will\n",
    "be charged Rs. 10 per unit, After 300 units and above the user will be charged Rs. 20 per unit.\n",
    "You are required to take the units of electricity consumed in a month from the user as input.\n",
    "Your program must pass this test case: when the unit of electricity consumed by the user in a month is\n",
    "310, the total electricity bill should be 2250."
   ]
  },
  {
   "cell_type": "code",
   "execution_count": 4,
   "id": "b9eaaf7d-7e33-4dbd-afd3-cf5f9c0c6af3",
   "metadata": {},
   "outputs": [
    {
     "name": "stdin",
     "output_type": "stream",
     "text": [
      "Enter the unit of bill 255\n"
     ]
    },
    {
     "name": "stdout",
     "output_type": "stream",
     "text": [
      "1600.0\n"
     ]
    }
   ],
   "source": [
    "bill=0\n",
    "unit=int(input(\"Enter the unit of bill\"))\n",
    "if unit>300:\n",
    "    bill=(unit-300)*20+100*10+100*6+100*4.5\n",
    "elif unit>200:\n",
    "    bill=(unit-200)*10+100*6+100*4.5\n",
    "elif unit>100:\n",
    "    bill=(unit-100)*6+100*4.5\n",
    "else:\n",
    "    bill=unit*4.5\n",
    "print(bill)"
   ]
  },
  {
   "cell_type": "markdown",
   "id": "7abef1f2-1499-40a0-b14e-25f646578be8",
   "metadata": {},
   "source": [
    "Q4). Create a list of numbers from 1 to 100. Use for loop and while loop to calculate the cube of each\n",
    "number and if the cube of that number is divisible by 4 or 5 then append that number in a list and print\n",
    "that list."
   ]
  },
  {
   "cell_type": "code",
   "execution_count": 5,
   "id": "43277b43-b290-4e83-ac47-d0470c18943f",
   "metadata": {},
   "outputs": [
    {
     "name": "stdout",
     "output_type": "stream",
     "text": [
      "[2, 4, 5, 6, 8, 10, 12, 14, 15, 16, 18, 20, 22, 24, 25, 26, 28, 30, 32, 34, 35, 36, 38, 40, 42, 44, 45, 46, 48, 50, 52, 54, 55, 56, 58, 60, 62, 64, 65, 66, 68, 70, 72, 74, 75, 76, 78, 80, 82, 84, 85, 86, 88, 90, 92, 94, 95, 96, 98, 100]\n"
     ]
    }
   ],
   "source": [
    "l1=[]\n",
    "n=1\n",
    "for i in range(1,101,1):\n",
    "    n=i*i*i\n",
    "    if n%4==0 or n%5==0:\n",
    "        l1.append(i)\n",
    "print(l1)"
   ]
  },
  {
   "cell_type": "markdown",
   "id": "f7d17067-0d27-412f-806e-749fb7aa19ae",
   "metadata": {},
   "source": [
    "Q5). Write a program to filter count vowels in the below-given string.\n",
    "string = \"I want to become a data scientist\""
   ]
  },
  {
   "cell_type": "code",
   "execution_count": 6,
   "id": "618a8f7d-3264-44f0-ab3f-2c319beaad65",
   "metadata": {},
   "outputs": [
    {
     "name": "stdout",
     "output_type": "stream",
     "text": [
      "12\n"
     ]
    }
   ],
   "source": [
    "#Answer--->\n",
    "\n",
    "s5=\"I want to become a data scientist\"\n",
    "count=0\n",
    "for i in s5:\n",
    "    if i=='a' or i=='e' or i=='i' or i=='o' or i=='u' or i=='A' or i=='E' or i=='I' or i=='O' or i=='U':\n",
    "        count+=1\n",
    "print(count)"
   ]
  },
  {
   "cell_type": "code",
   "execution_count": null,
   "id": "4a16af16-de94-4483-9f39-27233d1e4ec9",
   "metadata": {},
   "outputs": [],
   "source": []
  }
 ],
 "metadata": {
  "kernelspec": {
   "display_name": "Python 3 (ipykernel)",
   "language": "python",
   "name": "python3"
  },
  "language_info": {
   "codemirror_mode": {
    "name": "ipython",
    "version": 3
   },
   "file_extension": ".py",
   "mimetype": "text/x-python",
   "name": "python",
   "nbconvert_exporter": "python",
   "pygments_lexer": "ipython3",
   "version": "3.10.8"
  }
 },
 "nbformat": 4,
 "nbformat_minor": 5
}
