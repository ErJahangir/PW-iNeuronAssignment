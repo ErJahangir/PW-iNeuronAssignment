{
 "cells": [
  {
   "cell_type": "markdown",
   "id": "d4f6c6d5-1520-4a91-bc4a-4e0afffae8ca",
   "metadata": {},
   "source": [
    "Q1). Which keyword is used to create a function? Create a function to return a list of odd numbers in the\n",
    "range of 1 to 25."
   ]
  },
  {
   "cell_type": "markdown",
   "id": "0d0a5b21-0e48-4f3d-a63b-a0e496ae066f",
   "metadata": {},
   "source": [
    "ANSWER---> The \"def\" keyword is used to create, (or define) a function."
   ]
  },
  {
   "cell_type": "code",
   "execution_count": 1,
   "id": "8079b854-3a56-437b-8ace-040974a586d8",
   "metadata": {},
   "outputs": [],
   "source": [
    "def odd(a):\n",
    "    l=[]\n",
    "    for i in range(1,a+1):\n",
    "        if i%2!=0:\n",
    "            l.append(i)\n",
    "    return l\n",
    "            "
   ]
  },
  {
   "cell_type": "code",
   "execution_count": 2,
   "id": "6ab63582-5273-4b82-bc9d-0b30fae995aa",
   "metadata": {},
   "outputs": [
    {
     "data": {
      "text/plain": [
       "[1, 3, 5, 7, 9, 11, 13, 15, 17, 19, 21, 23, 25]"
      ]
     },
     "execution_count": 2,
     "metadata": {},
     "output_type": "execute_result"
    }
   ],
   "source": [
    "odd(25)"
   ]
  },
  {
   "cell_type": "markdown",
   "id": "e549f527-f2b0-4cff-9b12-0149b2e79caa",
   "metadata": {},
   "source": [
    "Q2). Why *args and **kwargs is used in some functions? Create a function each for *args and **kwargs to demonstrate their use."
   ]
  },
  {
   "cell_type": "markdown",
   "id": "3b74921e-262a-4a94-bcfc-eeee3a335bf2",
   "metadata": {},
   "source": [
    "ANSWER--->  We use *args and **kwargs as an argument when we are unsure about the number of arguments to pass in the functions."
   ]
  },
  {
   "cell_type": "code",
   "execution_count": 3,
   "id": "b3de1f4b-c87b-4472-8bab-d0d5f110cbab",
   "metadata": {},
   "outputs": [],
   "source": [
    "#for *arg -->\n",
    "def arg(*args):\n",
    "    return args"
   ]
  },
  {
   "cell_type": "code",
   "execution_count": 4,
   "id": "48834229-4dfb-4870-9f02-c31f5eb599a9",
   "metadata": {},
   "outputs": [
    {
     "data": {
      "text/plain": [
       "(1, 2, 3, 4, 'Jahangir', 12.33, [21, 32, 43, 54])"
      ]
     },
     "execution_count": 4,
     "metadata": {},
     "output_type": "execute_result"
    }
   ],
   "source": [
    "arg(1,2,3,4,'Jahangir',12.33,[21,32,43,54])"
   ]
  },
  {
   "cell_type": "code",
   "execution_count": 5,
   "id": "3215e78d-ff37-416f-b3af-1d9938340a0e",
   "metadata": {},
   "outputs": [],
   "source": [
    "# For **kwarge-->\n",
    "def kwarg(**a):\n",
    "    return a"
   ]
  },
  {
   "cell_type": "code",
   "execution_count": 6,
   "id": "953d6d4d-6b1d-4e4a-b449-05090a34f83f",
   "metadata": {},
   "outputs": [
    {
     "data": {
      "text/plain": [
       "{'a': [2, 3, 4, 5, 7], 'b': 'Jahangir', 'c': {3, 4.454, 12}}"
      ]
     },
     "execution_count": 6,
     "metadata": {},
     "output_type": "execute_result"
    }
   ],
   "source": [
    "kwarg(a=[2,3,4,5,7],b=\"Jahangir\",c={12,3,4.454})"
   ]
  },
  {
   "cell_type": "markdown",
   "id": "c16168d4-f7d5-459b-9bbc-05b26581f755",
   "metadata": {},
   "source": [
    "Q3. What is an iterator in python? Name the method used to initialise the iterator object and the method\n",
    "used for iteration. Use these methods to print the first five elements of the given list [2, 4, 6, 8, 10, 12, 14,\n",
    "16, 18, 20]."
   ]
  },
  {
   "cell_type": "markdown",
   "id": "fc02f630-ef48-44fd-9730-60b4bee0c77f",
   "metadata": {},
   "source": [
    "ANSWER--->\n",
    "An iterator in Python is an object that is used to iterate over iterable objects like lists, tuples, dicts, and sets. The Python iterators object is initialized using the iter() method. It uses the next() method for iteration.\n",
    "\n",
    "iter(): The iter() method is called for the initialization of an iterator. This returns an iterator object.\n",
    "next(): The next method returns the next value for the iterable. When we use a for loop to traverse any iterable object, internally it uses the iter() method to get an iterator object, which further uses the next() method to iterate over. This method raises a StopIteration to signal the end of the iteration."
   ]
  },
  {
   "cell_type": "code",
   "execution_count": 7,
   "id": "eddbf4c2-9ca6-426f-97d0-2bbd9d43170a",
   "metadata": {},
   "outputs": [
    {
     "name": "stdout",
     "output_type": "stream",
     "text": [
      "2\n",
      "4\n",
      "6\n",
      "8\n",
      "10\n"
     ]
    }
   ],
   "source": [
    "l=[2, 4, 6, 8, 10, 12, 14, 16, 18, 20]\n",
    "iterator=iter(l)\n",
    "for i in range (5):\n",
    "    print(next(iterator))"
   ]
  },
  {
   "cell_type": "markdown",
   "id": "2dda3768-459e-493f-aeb4-c973e9cd4538",
   "metadata": {},
   "source": [
    "Q4). What is a generator function in python? Why yield keyword is used? Give an example of a generator\n",
    "function."
   ]
  },
  {
   "cell_type": "markdown",
   "id": "251ade9b-f0c5-43d4-959d-d5ca5cd1c0e5",
   "metadata": {},
   "source": [
    "ANSWER--->  In Python, a generator is a function that returns an iterator that produces a sequence of values when iterated over.\n",
    "Generators are useful when we want to produce a large sequence of values, but we don't want to store all of them in memory at once."
   ]
  },
  {
   "cell_type": "code",
   "execution_count": 8,
   "id": "1d812f7e-04a5-46f7-ad05-62d460a2b0e1",
   "metadata": {},
   "outputs": [],
   "source": [
    "def generator(p):\n",
    "    for i in p:\n",
    "        yield i"
   ]
  },
  {
   "cell_type": "code",
   "execution_count": 9,
   "id": "486d13b6-42b0-47f4-b7f6-5e197150d374",
   "metadata": {},
   "outputs": [],
   "source": [
    "s=\"jahangir\""
   ]
  },
  {
   "cell_type": "code",
   "execution_count": 10,
   "id": "4c3fbb1c-e49b-47f4-be1f-e39ccad4d10e",
   "metadata": {},
   "outputs": [
    {
     "name": "stdout",
     "output_type": "stream",
     "text": [
      "j\n",
      "a\n",
      "h\n",
      "a\n",
      "n\n",
      "g\n",
      "i\n",
      "r\n"
     ]
    }
   ],
   "source": [
    "for i in generator(s):\n",
    "    print(i)"
   ]
  },
  {
   "cell_type": "markdown",
   "id": "9fa26ecb-897f-4825-9cac-65f1151f1800",
   "metadata": {},
   "source": [
    "Q5. Create a generator function for prime numbers less than 1000. Use the next() method to print the\n",
    "first 20 prime numbers."
   ]
  },
  {
   "cell_type": "code",
   "execution_count": 11,
   "id": "4860b6bc-b26c-4284-b4aa-c09c494b647c",
   "metadata": {},
   "outputs": [],
   "source": [
    "def prime_generator():\n",
    "    primes = []\n",
    "    num = 2\n",
    "    while True:\n",
    "        is_prime = True\n",
    "        for prime in primes:\n",
    "            if prime * prime > num:\n",
    "                break\n",
    "            if num % prime == 0:\n",
    "                is_prime = False\n",
    "                break\n",
    "        if is_prime:\n",
    "            primes.append(num)\n",
    "            yield num\n",
    "        num += 1"
   ]
  },
  {
   "cell_type": "code",
   "execution_count": 12,
   "id": "a1a0006e-639c-4b00-80c9-b5c5e3e1c1e2",
   "metadata": {},
   "outputs": [],
   "source": [
    "primes_gen = prime_generator()"
   ]
  },
  {
   "cell_type": "code",
   "execution_count": 13,
   "id": "4d219a7a-8d0f-4cf9-bd6b-f23389c46cd9",
   "metadata": {},
   "outputs": [
    {
     "name": "stdout",
     "output_type": "stream",
     "text": [
      "2\n",
      "3\n",
      "5\n",
      "7\n",
      "11\n",
      "13\n",
      "17\n",
      "19\n",
      "23\n",
      "29\n",
      "31\n",
      "37\n",
      "41\n",
      "43\n",
      "47\n",
      "53\n",
      "59\n",
      "61\n",
      "67\n",
      "71\n"
     ]
    }
   ],
   "source": [
    "for _ in range(20):\n",
    "    print(next(primes_gen))"
   ]
  },
  {
   "cell_type": "markdown",
   "id": "dedfc536-27a9-4792-a814-410d3a4f5a76",
   "metadata": {},
   "source": [
    "Q6. Write a python program to print the first 10 Fibonacci numbers using a while loop."
   ]
  },
  {
   "cell_type": "code",
   "execution_count": 14,
   "id": "71c64d50-7f55-493a-9a36-4a68f42b74fe",
   "metadata": {},
   "outputs": [],
   "source": [
    "def fabonacci(l):\n",
    "    a,b=0,1\n",
    "    while l>0:\n",
    "        yield a\n",
    "        a,b=b,a+b\n",
    "        l-=1"
   ]
  },
  {
   "cell_type": "code",
   "execution_count": 15,
   "id": "0500eee5-16c0-48e6-8680-5a91afe60f0c",
   "metadata": {},
   "outputs": [
    {
     "name": "stdout",
     "output_type": "stream",
     "text": [
      "0\n",
      "1\n",
      "1\n",
      "2\n",
      "3\n",
      "5\n",
      "8\n",
      "13\n",
      "21\n",
      "34\n"
     ]
    }
   ],
   "source": [
    "for i in fabonacci(10):\n",
    "    print(i)"
   ]
  },
  {
   "cell_type": "markdown",
   "id": "8e8598d2-6abb-4702-a045-69de5081885d",
   "metadata": {},
   "source": [
    "Q7. Write a List Comprehension to iterate through the given string: ‘pwskills’.\n",
    "Expected output: ['p', 'w', 's', 'k', 'i', 'l', 'l', 's']"
   ]
  },
  {
   "cell_type": "code",
   "execution_count": 16,
   "id": "884790fb-e179-45eb-b410-289298e3fa6a",
   "metadata": {},
   "outputs": [],
   "source": [
    "s='pwskills'"
   ]
  },
  {
   "cell_type": "code",
   "execution_count": 17,
   "id": "4d68036c-6205-4657-b9d4-3c1bc0e98a9e",
   "metadata": {},
   "outputs": [
    {
     "data": {
      "text/plain": [
       "['p', 'w', 's', 'k', 'i', 'l', 'l', 's']"
      ]
     },
     "execution_count": 17,
     "metadata": {},
     "output_type": "execute_result"
    }
   ],
   "source": [
    "[i for i in s]"
   ]
  },
  {
   "cell_type": "markdown",
   "id": "8747e10e-3b55-439a-bcff-344b35da7832",
   "metadata": {},
   "source": [
    "Q8. Write a python program to check whether a given number is Palindrome or not using a while loop."
   ]
  },
  {
   "cell_type": "code",
   "execution_count": 18,
   "id": "07f4b778-3f3a-42b8-893c-c3fb0770db39",
   "metadata": {},
   "outputs": [
    {
     "name": "stdin",
     "output_type": "stream",
     "text": [
      " 5\n"
     ]
    },
    {
     "name": "stdout",
     "output_type": "stream",
     "text": [
      "Palindrome\n"
     ]
    }
   ],
   "source": [
    "#ANSWER---->\n",
    "num=int(input())\n",
    "temp=num\n",
    "reverse=0\n",
    "while temp>0:\n",
    "    r=temp%10\n",
    "    reverse=reverse*10+r\n",
    "    temp=temp//10\n",
    "if num==reverse:\n",
    "    print(\"Palindrome\")\n",
    "else:\n",
    "          print(\"not palindrome\")"
   ]
  },
  {
   "cell_type": "markdown",
   "id": "96b3b490-2043-44e8-870b-41bc2a19f804",
   "metadata": {},
   "source": [
    "Q9. Write a code to print odd numbers from 1 to 100 using list comprehension."
   ]
  },
  {
   "cell_type": "code",
   "execution_count": 19,
   "id": "5d6b4b3b-4dc3-4ba9-bffc-3c966331ea35",
   "metadata": {},
   "outputs": [
    {
     "data": {
      "text/plain": [
       "[1,\n",
       " 3,\n",
       " 5,\n",
       " 7,\n",
       " 9,\n",
       " 11,\n",
       " 13,\n",
       " 15,\n",
       " 17,\n",
       " 19,\n",
       " 21,\n",
       " 23,\n",
       " 25,\n",
       " 27,\n",
       " 29,\n",
       " 31,\n",
       " 33,\n",
       " 35,\n",
       " 37,\n",
       " 39,\n",
       " 41,\n",
       " 43,\n",
       " 45,\n",
       " 47,\n",
       " 49,\n",
       " 51,\n",
       " 53,\n",
       " 55,\n",
       " 57,\n",
       " 59,\n",
       " 61,\n",
       " 63,\n",
       " 65,\n",
       " 67,\n",
       " 69,\n",
       " 71,\n",
       " 73,\n",
       " 75,\n",
       " 77,\n",
       " 79,\n",
       " 81,\n",
       " 83,\n",
       " 85,\n",
       " 87,\n",
       " 89,\n",
       " 91,\n",
       " 93,\n",
       " 95,\n",
       " 97,\n",
       " 99]"
      ]
     },
     "execution_count": 19,
     "metadata": {},
     "output_type": "execute_result"
    }
   ],
   "source": [
    "[i for i  in range(1,100,1)  if i%2!=0]"
   ]
  },
  {
   "cell_type": "code",
   "execution_count": null,
   "id": "916e86fe-10de-484e-81ee-949d399996be",
   "metadata": {},
   "outputs": [],
   "source": []
  }
 ],
 "metadata": {
  "kernelspec": {
   "display_name": "Python 3 (ipykernel)",
   "language": "python",
   "name": "python3"
  },
  "language_info": {
   "codemirror_mode": {
    "name": "ipython",
    "version": 3
   },
   "file_extension": ".py",
   "mimetype": "text/x-python",
   "name": "python",
   "nbconvert_exporter": "python",
   "pygments_lexer": "ipython3",
   "version": "3.10.8"
  }
 },
 "nbformat": 4,
 "nbformat_minor": 5
}
