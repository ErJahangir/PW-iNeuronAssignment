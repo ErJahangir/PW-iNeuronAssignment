{
 "cells": [
  {
   "cell_type": "markdown",
   "id": "a5c48e6c-32b0-47bc-9862-5d7c382ef876",
   "metadata": {},
   "source": [
    "Q1. Explain Class and Object with respect to Object-Oriented Programming. Give a suitable example."
   ]
  },
  {
   "cell_type": "markdown",
   "id": "3f8c34a8-d01b-4f29-9c0d-e72f5fe15170",
   "metadata": {},
   "source": [
    "Answer     \n",
    "Class :-->\n",
    "        A class is a user-defined data type that represents a blueprint for creating objects. It defines a set of data members and member functions that the objects created from the class will have. The attributees represent the characteristics or properties of the objects, while the methods represent the actions or that the objects can perform."
   ]
  },
  {
   "cell_type": "markdown",
   "id": "d5c671ac-1a7e-4d46-842b-0eafe8194602",
   "metadata": {},
   "source": [
    "Object :-->\n",
    "            An object is an instance of a class. It is a concerte realization of the class, created based on the class definition. Objects have their own unique data, but they share the structure and behavior defiend by their class. You can think of a class as a blueprint, and an object as a specific instance built from that blueprint."
   ]
  },
  {
   "cell_type": "code",
   "execution_count": 1,
   "id": "50e4c47f-6c7b-49e8-bc82-49db0c400bba",
   "metadata": {},
   "outputs": [],
   "source": [
    "#Example :--->\n",
    "\n",
    "#Class -->\n",
    "class person:\n",
    "    def __init__(self,name,age):\n",
    "        self.name=name\n",
    "        self.age=age\n",
    "    def great(self):\n",
    "        print(f\"Hello, my name is {self.name} and I am {self.age} Years old. \")\n",
    "\n",
    "#Object-->\n",
    "\n",
    "person1=person(\"Jahangir\",18)\n",
    "person2=person(\"Vikash\",19)"
   ]
  },
  {
   "cell_type": "code",
   "execution_count": 2,
   "id": "9ff6760d-4a9c-44e7-8621-8d89944f07a6",
   "metadata": {},
   "outputs": [
    {
     "name": "stdout",
     "output_type": "stream",
     "text": [
      "Hello, my name is Jahangir and I am 18 Years old. \n"
     ]
    }
   ],
   "source": [
    "person1.great()"
   ]
  },
  {
   "cell_type": "code",
   "execution_count": 3,
   "id": "b6e5fb02-4d29-429b-80e5-3f3a3b31a4c6",
   "metadata": {},
   "outputs": [
    {
     "name": "stdout",
     "output_type": "stream",
     "text": [
      "Hello, my name is Vikash and I am 19 Years old. \n"
     ]
    }
   ],
   "source": [
    "person2.great()"
   ]
  },
  {
   "cell_type": "markdown",
   "id": "95f49594-fb9f-4acf-9592-9df5218c3390",
   "metadata": {},
   "source": [
    "Q2). Name the four pillers of OOPs."
   ]
  },
  {
   "cell_type": "markdown",
   "id": "185fa4de-27e6-48cf-b0c8-dd2f52873b47",
   "metadata": {},
   "source": [
    "Answer    \n",
    "Name of four pillers of OOPs -->     \n",
    "   \n",
    "1).  Encapsulation --->     Encapsulation is the bundling of data and the methons that operate on the data into a single unit called a class.       \n",
    "2).   Abstraction: --->   Abstraction is the process of simplifying complex systems by modeling classes based on the essantial properties and behaviors they share, while ignoring or hiding the non-essential details.    \n",
    "3).  Polymorphism --->  The word polymorphism means having many forms. In programming, polymorphism means the same function name being used for different types. The key difference is the data types and number of arguments used in function.   \n",
    "4).  Inheritance -->   Inheritance is the capability of one class to drive or inherit the properties from another class. The class that derives properties is called the drived class or child class and the class from which the properties are being derived is called the base class or parent class."
   ]
  },
  {
   "cell_type": "markdown",
   "id": "91dfb14e-5687-48ea-b956-751a16ff4a4b",
   "metadata": {},
   "source": [
    "Q3). Explain why the _ _init_ _() function is used. Give a suitable example. "
   ]
  },
  {
   "cell_type": "markdown",
   "id": "e2b924fc-6976-431b-8c3c-6f8c77b1b16f",
   "metadata": {},
   "source": [
    "Answer -->   \n",
    " The _ _init_ _() function is a special method in Python classes that is called when an object is created. It is used to initialize the attributes of the object with default values or values passed as arguments during object creation.\n",
    "The _ _init_ _() method takes at least one argument, self, which refers to the instance of the class being created. It can also take other arguments, which are used to initialize the attributes of the object.\n",
    "The _ _init_ _() method is typically used to initialize the attributes of the object to their default values. However, it can also be used to initialize the attributes of the object to values passed as arguments during object creation.   \n"
   ]
  },
  {
   "cell_type": "code",
   "execution_count": 4,
   "id": "71961d00-598b-44f4-88fd-29707ea312d6",
   "metadata": {},
   "outputs": [
    {
     "name": "stdout",
     "output_type": "stream",
     "text": [
      "John Doe\n"
     ]
    }
   ],
   "source": [
    "# Example -->  \n",
    "class Person:\n",
    "  def __init__(self, name, age=0):\n",
    "    self.name = name\n",
    "    self.age = age\n",
    "person = Person(\"John Doe\")\n",
    "print(person.name)"
   ]
  },
  {
   "cell_type": "markdown",
   "id": "461d55bf-6047-4dac-8042-0eb2e0a2767b",
   "metadata": {},
   "source": [
    "Q4). Why self is used in OOPs?"
   ]
  },
  {
   "cell_type": "markdown",
   "id": "adcef18e-28e1-4769-81a9-541112d34fd0",
   "metadata": {},
   "source": [
    "The self is used to represent the instance of the class. With this keyword, you can access the attributes and methods of the class in python. It binds the attributes with the given arguments. The reason why we use self is that Python does not use the '@' syntax to refer to instance attributes."
   ]
  },
  {
   "cell_type": "code",
   "execution_count": 5,
   "id": "a6752e73-759e-498c-aac5-22169bb704a3",
   "metadata": {},
   "outputs": [
    {
     "name": "stdout",
     "output_type": "stream",
     "text": [
      "17\n"
     ]
    }
   ],
   "source": [
    "#Example-->\n",
    "class mynumber:\n",
    "    def __init__(self, value):\n",
    "        self.value = value\n",
    "     \n",
    "    def print_value(self):\n",
    "        print(self.value)\n",
    " \n",
    "obj1 = mynumber(17)\n",
    "obj1.print_value()"
   ]
  },
  {
   "cell_type": "markdown",
   "id": "b13f4427-5cc4-422c-8972-a2bcb56738c5",
   "metadata": {},
   "source": [
    "Q5). What is inheritance? Give an example for each type of inheritance?"
   ]
  },
  {
   "cell_type": "markdown",
   "id": "d61dd55c-9c3a-419a-8ce7-9f14e5607e31",
   "metadata": {},
   "source": [
    "Inheritance is an important aspect of the object-oriented paradigm. Inheritance provides code reusability to the program because we can use an existing class to create a new class instead of creating it from scratch.  \n",
    " Inheritance is the capability of one class to drive or inherit the properties from another class. The class that derives properties is called the drived class or child class and the class from which the properties are being derived is called the base class or parent class."
   ]
  },
  {
   "cell_type": "code",
   "execution_count": 6,
   "id": "c07f532c-b0a4-4e23-a213-0ca6a22a7045",
   "metadata": {},
   "outputs": [
    {
     "name": "stdout",
     "output_type": "stream",
     "text": [
      "dog barking\n",
      "Animal Speaking\n"
     ]
    }
   ],
   "source": [
    "#Example -->\n",
    "class Animal:\n",
    "    def speak(self):\n",
    "        print(\"Animal Speaking\")\n",
    "#child class Dog inherits the base class Animal\n",
    "class Dog(Animal):\n",
    "    def bark(self):\n",
    "        print(\"dog barking\")\n",
    "d = Dog()\n",
    "d.bark()\n",
    "d.speak()"
   ]
  },
  {
   "cell_type": "markdown",
   "id": "70b32bd4-4138-4804-9869-2ab9981cc39b",
   "metadata": {},
   "source": [
    "Type of Inheritance \n",
    "1. Single Inheritance:  \n",
    "     In single inheritance, a subclass inherits from only one superclass.\n",
    "\n",
    "Example:"
   ]
  },
  {
   "cell_type": "code",
   "execution_count": 7,
   "id": "a24287db-af72-4857-92b0-3811a61c2e58",
   "metadata": {},
   "outputs": [
    {
     "name": "stdout",
     "output_type": "stream",
     "text": [
      "Animal speaks\n",
      "Dog barks\n"
     ]
    }
   ],
   "source": [
    "class Animal:\n",
    "    def speak(self):\n",
    "        print(\"Animal speaks\")\n",
    "\n",
    "class Dog(Animal):\n",
    "    def bark(self):\n",
    "        print(\"Dog barks\")\n",
    "\n",
    "# Example of Single Inheritance\n",
    "dog = Dog()\n",
    "dog.speak()  # Inherited from Animal class\n",
    "dog.bark()   # Specific to Dog class"
   ]
  },
  {
   "cell_type": "markdown",
   "id": "b081168d-c9c0-4736-a4b2-2845a6f5d4b3",
   "metadata": {},
   "source": [
    "2. Multiple Inheritance:  \n",
    "      In multiple inheritance, a class inherits from more than one superclass.   \n",
    "      \n",
    "Example:-"
   ]
  },
  {
   "cell_type": "code",
   "execution_count": 8,
   "id": "7a19f1d9-a959-46f9-a3e0-1283191ec7c6",
   "metadata": {},
   "outputs": [
    {
     "name": "stdout",
     "output_type": "stream",
     "text": [
      "Can fly\n",
      "Can swim\n"
     ]
    }
   ],
   "source": [
    "class Flyable:\n",
    "    def fly(self):\n",
    "        print(\"Can fly\")\n",
    "\n",
    "class Swimmable:\n",
    "    def swim(self):\n",
    "        print(\"Can swim\")\n",
    "\n",
    "class Amphibian(Flyable, Swimmable):\n",
    "    pass\n",
    "\n",
    "# Example of Multiple Inheritance\n",
    "frog = Amphibian()\n",
    "frog.fly()   # Inherited from Flyable\n",
    "frog.swim()  # Inherited from Swimmable"
   ]
  },
  {
   "cell_type": "markdown",
   "id": "12381677-2cb7-4cda-847e-f2c86570a95d",
   "metadata": {},
   "source": [
    "3. Multilevel Inheritance:  \n",
    "    In multilevel inheritance, a class inherits from a superclass, and another     class inherits from this derived class, forming a chain.  \n",
    "    \n",
    "Example:- "
   ]
  },
  {
   "cell_type": "code",
   "execution_count": 9,
   "id": "a1ea91e1-b101-4fc4-b6db-6d81acb6697e",
   "metadata": {},
   "outputs": [
    {
     "name": "stdout",
     "output_type": "stream",
     "text": [
      "Vehicle started\n",
      "Car is being driven\n",
      "Sports car is racing\n"
     ]
    }
   ],
   "source": [
    "class Vehicle:\n",
    "    def start(self):\n",
    "        print(\"Vehicle started\")\n",
    "\n",
    "class Car(Vehicle):\n",
    "    def drive(self):\n",
    "        print(\"Car is being driven\")\n",
    "\n",
    "class SportsCar(Car):\n",
    "    def race(self):\n",
    "        print(\"Sports car is racing\")\n",
    "\n",
    "# Example of Multilevel Inheritance\n",
    "sports_car = SportsCar()\n",
    "sports_car.start()  # Inherited from Vehicle\n",
    "sports_car.drive()  # Inherited from Car\n",
    "sports_car.race()   # Specific to SportsCar"
   ]
  },
  {
   "cell_type": "markdown",
   "id": "2ac98c48-2af0-42d0-aad7-759f08932b0d",
   "metadata": {},
   "source": [
    "4. Hierarchical Inheritance:  \n",
    "     In hierarchical inheritance, multiple classes inherit from a common            superclass.   \n",
    "\n",
    "Example:- "
   ]
  },
  {
   "cell_type": "code",
   "execution_count": 10,
   "id": "06eea5f8-a323-4b1d-b620-1e85247c5342",
   "metadata": {},
   "outputs": [
    {
     "name": "stdout",
     "output_type": "stream",
     "text": [
      "Drawing circle\n",
      "Drawing square\n"
     ]
    }
   ],
   "source": [
    "class Shape:\n",
    "    def draw(self):\n",
    "        print(\"Drawing shape\")\n",
    "\n",
    "class Circle(Shape):\n",
    "    def draw(self):\n",
    "        print(\"Drawing circle\")\n",
    "\n",
    "class Square(Shape):\n",
    "    def draw(self):\n",
    "        print(\"Drawing square\")\n",
    "\n",
    "# Example of Hierarchical Inheritance\n",
    "circle = Circle()\n",
    "square = Square()\n",
    "\n",
    "circle.draw()  # Specific to Circle\n",
    "square.draw()  # Specific to Square"
   ]
  },
  {
   "cell_type": "markdown",
   "id": "174479d5-c54f-4cfb-bccb-76f453c4a49b",
   "metadata": {},
   "source": [
    "5. Hybrid Inheritance:   \n",
    "    Hybrid inheritance is a combination of two or more types of inheritance.       It can involve any combination of the above types.\n",
    "    \n",
    "Example:- "
   ]
  },
  {
   "cell_type": "code",
   "execution_count": 11,
   "id": "36713b2d-4674-4064-85e5-d598d00e73ee",
   "metadata": {},
   "outputs": [
    {
     "name": "stdout",
     "output_type": "stream",
     "text": [
      "Animal speaks\n",
      "Mammal gives birth\n",
      "Bird lays eggs\n",
      "Bat can fly\n",
      "\n",
      "Animal speaks\n",
      "Mammal gives birth\n",
      "Whale can swim\n"
     ]
    }
   ],
   "source": [
    "class Animal:\n",
    "    def speak(self):\n",
    "        print(\"Animal speaks\")\n",
    "\n",
    "class Mammal(Animal):\n",
    "    def give_birth(self):\n",
    "        print(\"Mammal gives birth\")\n",
    "\n",
    "class Bird(Animal):\n",
    "    def lay_eggs(self):\n",
    "        print(\"Bird lays eggs\")\n",
    "\n",
    "class Bat(Mammal, Bird):\n",
    "    def fly(self):\n",
    "        print(\"Bat can fly\")\n",
    "\n",
    "class Whale(Mammal):\n",
    "    def swim(self):\n",
    "        print(\"Whale can swim\")\n",
    "\n",
    "# Example of Hybrid Inheritance\n",
    "bat = Bat()\n",
    "whale = Whale()\n",
    "\n",
    "bat.speak()       # Inherited from Animal\n",
    "bat.give_birth()  # Inherited from Mammal\n",
    "bat.lay_eggs()    # Inherited from Bird\n",
    "bat.fly()         # Specific to Bat\n",
    "\n",
    "print()\n",
    "\n",
    "whale.speak()      # Inherited from Animal\n",
    "whale.give_birth() # Inherited from Mammal\n",
    "whale.swim()       # Specific to Whale"
   ]
  }
 ],
 "metadata": {
  "kernelspec": {
   "display_name": "Python 3 (ipykernel)",
   "language": "python",
   "name": "python3"
  },
  "language_info": {
   "codemirror_mode": {
    "name": "ipython",
    "version": 3
   },
   "file_extension": ".py",
   "mimetype": "text/x-python",
   "name": "python",
   "nbconvert_exporter": "python",
   "pygments_lexer": "ipython3",
   "version": "3.10.8"
  }
 },
 "nbformat": 4,
 "nbformat_minor": 5
}
